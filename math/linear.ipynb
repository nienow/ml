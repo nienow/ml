{
 "cells": [
  {
   "cell_type": "code",
   "execution_count": 1,
   "outputs": [
    {
     "data": {
      "text/plain": "[<matplotlib.lines.Line2D at 0x22fb682b5b0>]"
     },
     "execution_count": 1,
     "metadata": {},
     "output_type": "execute_result"
    },
    {
     "data": {
      "text/plain": "<Figure size 432x288 with 1 Axes>",
      "image/png": "[encoded data removed]"
     },
     "metadata": {
      "needs_background": "light"
     },
     "output_type": "display_data"
    }
   ],
   "source": [
    "import numpy as np\n",
    "import matplotlib.pyplot as plt\n",
    "X = 2 * np.random.rand(10, 1)\n",
    "Y = 4 + 3 * X + np.random.rand(10, 1)\n",
    "plt.plot(X, Y, 'o')\n"
   ],
   "metadata": {
    "collapsed": false,
    "pycharm": {
     "name": "#%%\n"
    }
   }
  },
  {
   "cell_type": "markdown",
   "source": [],
   "metadata": {
    "collapsed": false,
    "pycharm": {
     "name": "#%% md\n"
    }
   }
  },
  {
   "cell_type": "code",
   "execution_count": 2,
   "outputs": [
    {
     "name": "stdout",
     "output_type": "stream",
     "text": [
      "[[4.46211879]\n",
      " [3.14527345]]\n"
     ]
    }
   ],
   "source": [
    "# Add 1s the first column of X values - this is because the first feature is the bias, and the second feature is the weight of X\n",
    "X_b = np.c_[np.ones((10, 1)), X]\n",
    "\n",
    "# Calculate the best linear params using the normal equation\n",
    "lin_params = np.linalg.inv(X_b.T.dot(X_b)).dot(X_b.T).dot(Y)\n",
    "print(lin_params)"
   ],
   "metadata": {
    "collapsed": false,
    "pycharm": {
     "name": "#%%\n"
    }
   }
  },
  {
   "cell_type": "code",
   "execution_count": 3,
   "outputs": [
    {
     "data": {
      "text/plain": "<Figure size 432x288 with 1 Axes>",
      "image/png": "[encoded data removed]"
     },
     "metadata": {
      "needs_background": "light"
     },
     "output_type": "display_data"
    }
   ],
   "source": [
    "# plot the linear model line against the data\n",
    "X_ends = np.c_[np.ones((2, 1)), np.array([[0], [2]])]\n",
    "Y_ends = X_ends.dot(lin_params)\n",
    "plt.plot(X_ends, Y_ends)\n",
    "plt.plot(X, Y, 'o')\n",
    "plt.show()"
   ],
   "metadata": {
    "collapsed": false,
    "pycharm": {
     "name": "#%%\n"
    }
   }
  },
  {
   "cell_type": "code",
   "execution_count": 4,
   "outputs": [
    {
     "name": "stdout",
     "output_type": "stream",
     "text": [
      "[[10.          9.66357229]\n",
      " [ 9.66357229 12.10569098]]\n"
     ]
    }
   ],
   "source": [
    "# Dot product of X and Xt\n",
    "XtX = X_b.T.dot(X_b)\n",
    "print(XtX)"
   ],
   "metadata": {
    "collapsed": false,
    "pycharm": {
     "name": "#%%\n"
    }
   }
  },
  {
   "cell_type": "code",
   "execution_count": 5,
   "outputs": [
    {
     "name": "stdout",
     "output_type": "stream",
     "text": [
      "[[ 0.43746633 -0.34921489]\n",
      " [-0.34921489  0.36137246]]\n"
     ]
    }
   ],
   "source": [
    "XtX_inv = np.linalg.inv(XtX)\n",
    "print(XtX_inv)"
   ],
   "metadata": {
    "collapsed": false,
    "pycharm": {
     "name": "#%%\n"
    }
   }
  },
  {
   "cell_type": "code",
   "execution_count": 6,
   "outputs": [
    {
     "name": "stdout",
     "output_type": "stream",
     "text": [
      "[[75.01576523]\n",
      " [81.1957159 ]]\n"
     ]
    }
   ],
   "source": [
    "XtY = X_b.T.dot(Y)\n",
    "print(XtY)"
   ],
   "metadata": {
    "collapsed": false,
    "pycharm": {
     "name": "#%%\n"
    }
   }
  },
  {
   "cell_type": "code",
   "execution_count": 7,
   "outputs": [
    {
     "name": "stdout",
     "output_type": "stream",
     "text": [
      "[[4.46211879]\n",
      " [3.14527345]]\n"
     ]
    }
   ],
   "source": [
    "final_params = XtX_inv.dot(XtY)\n",
    "print(final_params)"
   ],
   "metadata": {
    "collapsed": false,
    "pycharm": {
     "name": "#%%\n"
    }
   }
  },
  {
   "cell_type": "code",
   "execution_count": 8,
   "outputs": [
    {
     "name": "stdout",
     "output_type": "stream",
     "text": [
      "7.607392237235073\n"
     ]
    }
   ],
   "source": [
    "predict = final_params[0][0] + final_params[1][0] * 1\n",
    "print(predict)"
   ],
   "metadata": {
    "collapsed": false,
    "pycharm": {
     "name": "#%%\n"
    }
   }
  },
  {
   "cell_type": "markdown",
   "source": [
    "## Batch Gradient Descent\n",
    "Uses every instance in every iteration"
   ],
   "metadata": {
    "collapsed": false,
    "pycharm": {
     "name": "#%% md\n"
    }
   }
  },
  {
   "cell_type": "code",
   "execution_count": 9,
   "outputs": [
    {
     "name": "stdout",
     "output_type": "stream",
     "text": [
      "[[4.46211811]\n",
      " [3.14527406]]\n"
     ]
    }
   ],
   "source": [
    "def batch_decent(x, y):\n",
    "    eta = 0.1 # learning rate\n",
    "    n = 1000 # iterations\n",
    "    theta = np.random.randn(2, 1) # random initializer\n",
    "    for i in range(n):\n",
    "        gradients = 2/x.size * x.T.dot(x.dot(theta) - y)\n",
    "        theta = theta - eta * gradients\n",
    "    return theta\n",
    "\n",
    "final_theta = batch_decent(X_b, Y)\n",
    "print(final_theta)"
   ],
   "metadata": {
    "collapsed": false,
    "pycharm": {
     "name": "#%%\n"
    }
   }
  },
  {
   "cell_type": "markdown",
   "source": [
    "## Stochastic Gradient Descent\n",
    "Chooses only 1 random instance per iteration. It does cycle though a number of epochs."
   ],
   "metadata": {
    "collapsed": false,
    "pycharm": {
     "name": "#%% md\n"
    }
   }
  },
  {
   "cell_type": "code",
   "execution_count": 10,
   "outputs": [
    {
     "name": "stdout",
     "output_type": "stream",
     "text": [
      "[[4.22261163]\n",
      " [3.31578488]]\n"
     ]
    }
   ],
   "source": [
    "def stochastic(x, y):\n",
    "    epochs = 25\n",
    "    t0, t1 = 5, 50 # hyperparameters\n",
    "    theta = np.random.randn(2, 1) # random initializer\n",
    "    for epoch in range(epochs):\n",
    "        for i in range(x.size):\n",
    "            rand_index = np.random.randint(x.size)\n",
    "            rand_x = x[rand_index:rand_index+1]\n",
    "            rand_y = y[rand_index:rand_index+1]\n",
    "            gradients = 2 * rand_x.T.dot(rand_x.dot(theta) - rand_y)\n",
    "            eta = t0 / (epoch * x.size + i + t1)\n",
    "            theta = theta - eta * gradients\n",
    "    return theta\n",
    "\n",
    "final_theta = stochastic(X_b, Y)\n",
    "print(final_theta)"
   ],
   "metadata": {
    "collapsed": false,
    "pycharm": {
     "name": "#%%\n"
    }
   }
  },
  {
   "cell_type": "code",
   "execution_count": 17,
   "outputs": [
    {
     "name": "stdout",
     "output_type": "stream",
     "text": [
      "[4.21694155] [3.37696452]\n"
     ]
    }
   ],
   "source": [
    "from sklearn.linear_model import SGDRegressor\n",
    "sgd = SGDRegressor(max_iter=100, tol=1e-3, penalty=None, eta0=0.1)\n",
    "sgd.fit(X, Y.ravel())\n",
    "print(sgd.intercept_, sgd.coef_)"
   ],
   "metadata": {
    "collapsed": false,
    "pycharm": {
     "name": "#%%\n"
    }
   }
  },
  {
   "cell_type": "markdown",
   "source": [
    "## Mini Batch Gradient Descent\n",
    "Grab a set of random instances for each interation"
   ],
   "metadata": {
    "collapsed": false,
    "pycharm": {
     "name": "#%% md\n"
    }
   }
  },
  {
   "cell_type": "code",
   "execution_count": 18,
   "outputs": [
    {
     "name": "stdout",
     "output_type": "stream",
     "text": [
      "[[4.47024628]\n",
      " [3.14179089]]\n"
     ]
    }
   ],
   "source": [
    "def mini_batch_decent(x, y):\n",
    "    eta = 0.1 # learning rate\n",
    "    n = 1000 # iterations\n",
    "    batch_size = 10\n",
    "    theta = np.random.randn(2, 1) # random initializer\n",
    "    for i in range(n):\n",
    "        for j in range(batch_size):\n",
    "            rand_index = np.random.randint(x.size)\n",
    "            rand_x = x[rand_index:rand_index+1]\n",
    "            rand_y = y[rand_index:rand_index+1]\n",
    "            gradients = 2/x.size * rand_x.T.dot(rand_x.dot(theta) - rand_y)\n",
    "            theta = theta - eta * gradients\n",
    "    return theta\n",
    "\n",
    "final_theta = mini_batch_decent(X_b, Y)\n",
    "print(final_theta)"
   ],
   "metadata": {
    "collapsed": false,
    "pycharm": {
     "name": "#%%\n"
    }
   }
  },
  {
   "cell_type": "code",
   "execution_count": null,
   "outputs": [],
   "source": [],
   "metadata": {
    "collapsed": false,
    "pycharm": {
     "name": "#%%\n"
    }
   }
  }
 ],
 "metadata": {
  "kernelspec": {
   "display_name": "Python 3",
   "language": "python",
   "name": "python3"
  },
  "language_info": {
   "codemirror_mode": {
    "name": "ipython",
    "version": 2
   },
   "file_extension": ".py",
   "mimetype": "text/x-python",
   "name": "python",
   "nbconvert_exporter": "python",
   "pygments_lexer": "ipython2",
   "version": "2.7.6"
  }
 },
 "nbformat": 4,
 "nbformat_minor": 0
}