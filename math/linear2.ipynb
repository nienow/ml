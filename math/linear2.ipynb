{
 "cells": [
  {
   "cell_type": "code",
   "execution_count": 1,
   "outputs": [
    {
     "data": {
      "text/plain": "[<matplotlib.lines.Line2D at 0x1362821ad40>,\n <matplotlib.lines.Line2D at 0x1362821ae60>]"
     },
     "execution_count": 1,
     "metadata": {},
     "output_type": "execute_result"
    },
    {
     "data": {
      "text/plain": "<Figure size 432x288 with 1 Axes>",
      "image/png": "[encoded data removed]"
     },
     "metadata": {
      "needs_background": "light"
     },
     "output_type": "display_data"
    }
   ],
   "source": [
    "import numpy as np\n",
    "import matplotlib.pyplot as plt\n",
    "X = [\n",
    "    [1, 1],\n",
    "    [1, 2],\n",
    "    [1, 3],\n",
    "    [2, 1],\n",
    "    [2, 2],\n",
    "    [2, 3],\n",
    "    [3, 1],\n",
    "    [3, 2],\n",
    "    [3, 3]\n",
    "]\n",
    "Y = [50, 54, 59, 55, 60, 65, 58, 63, 66]\n",
    "plt.plot(X, Y, 'o')"
   ],
   "metadata": {
    "collapsed": false,
    "pycharm": {
     "name": "#%%\n"
    }
   }
  },
  {
   "cell_type": "markdown",
   "source": [],
   "metadata": {
    "collapsed": false,
    "pycharm": {
     "name": "#%% md\n"
    }
   }
  },
  {
   "cell_type": "code",
   "execution_count": 2,
   "outputs": [
    {
     "name": "stdout",
     "output_type": "stream",
     "text": [
      "[41.88888889  4.          4.5       ]\n"
     ]
    }
   ],
   "source": [
    "X_b = np.c_[np.ones((9, 1)), X]\n",
    "lin_params = np.linalg.inv(X_b.T.dot(X_b)).dot(X_b.T).dot(Y)\n",
    "print(lin_params)"
   ],
   "metadata": {
    "collapsed": false,
    "pycharm": {
     "name": "#%%\n"
    }
   }
  },
  {
   "cell_type": "code",
   "execution_count": 3,
   "outputs": [
    {
     "name": "stdout",
     "output_type": "stream",
     "text": [
      "62.38888888888894\n"
     ]
    }
   ],
   "source": [
    "predict = lin_params[0] + lin_params[1] * 4 + lin_params[2] * 1\n",
    "print(predict)"
   ],
   "metadata": {
    "collapsed": false,
    "pycharm": {
     "name": "#%%\n"
    }
   }
  }
 ],
 "metadata": {
  "kernelspec": {
   "display_name": "Python 3",
   "language": "python",
   "name": "python3"
  },
  "language_info": {
   "codemirror_mode": {
    "name": "ipython",
    "version": 2
   },
   "file_extension": ".py",
   "mimetype": "text/x-python",
   "name": "python",
   "nbconvert_exporter": "python",
   "pygments_lexer": "ipython2",
   "version": "2.7.6"
  }
 },
 "nbformat": 4,
 "nbformat_minor": 0
}